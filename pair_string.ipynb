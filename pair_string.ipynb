{
 "cells": [
  {
   "cell_type": "markdown",
   "metadata": {},
   "source": [
    "##### Given a string S, compute recursively a new string where identical chars that are adjacent in the original string are separated from each other by a \"*\".\n"
   ]
  },
  {
   "cell_type": "code",
   "execution_count": 1,
   "metadata": {},
   "outputs": [],
   "source": [
    "def pairStar(str) :\n",
    "    if str == \"\"  or len(str) == 1:\n",
    "        return str\n",
    "    if str[0] == str[1]:\n",
    "        return str[0] + \"*\" + pairStar(str[1:]);\n",
    "    else:\n",
    "        return str[0] + pairStar(str[1:]);"
   ]
  },
  {
   "cell_type": "code",
   "execution_count": 2,
   "metadata": {},
   "outputs": [
    {
     "name": "stdout",
     "output_type": "stream",
     "text": [
      "1888---\n",
      "18*8*8-*-*-\n"
     ]
    }
   ],
   "source": [
    "str = input()\n",
    "print(pairStar(str))"
   ]
  }
 ],
 "metadata": {
  "kernelspec": {
   "display_name": "Python 3",
   "language": "python",
   "name": "python3"
  },
  "language_info": {
   "codemirror_mode": {
    "name": "ipython",
    "version": 3
   },
   "file_extension": ".py",
   "mimetype": "text/x-python",
   "name": "python",
   "nbconvert_exporter": "python",
   "pygments_lexer": "ipython3",
   "version": "3.8.5"
  }
 },
 "nbformat": 4,
 "nbformat_minor": 4
}
