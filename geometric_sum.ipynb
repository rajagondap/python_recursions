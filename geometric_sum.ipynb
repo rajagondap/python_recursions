{
 "cells": [
  {
   "cell_type": "markdown",
   "metadata": {},
   "source": [
    "# find the geometric sum if given n value\n"
   ]
  },
  {
   "cell_type": "code",
   "execution_count": 2,
   "metadata": {},
   "outputs": [],
   "source": [
    "def sum(n):\n",
    "     \n",
    "    # base case\n",
    "    if n == 0:\n",
    "        return 1\n",
    "     \n",
    "    # calculate the sum each time\n",
    "    # and return final answer\n",
    "    return 1 / pow(2, n) + sum(n-1)"
   ]
  },
  {
   "cell_type": "code",
   "execution_count": 3,
   "metadata": {},
   "outputs": [
    {
     "name": "stdout",
     "output_type": "stream",
     "text": [
      "6\n",
      "1.98438\n"
     ]
    }
   ],
   "source": [
    "n=int(input())\n",
    "print(\"{0:.5f}\".format(sum(n)));"
   ]
  }
 ],
 "metadata": {
  "kernelspec": {
   "display_name": "Python 3",
   "language": "python",
   "name": "python3"
  },
  "language_info": {
   "codemirror_mode": {
    "name": "ipython",
    "version": 3
   },
   "file_extension": ".py",
   "mimetype": "text/x-python",
   "name": "python",
   "nbconvert_exporter": "python",
   "pygments_lexer": "ipython3",
   "version": "3.8.5"
  }
 },
 "nbformat": 4,
 "nbformat_minor": 4
}
