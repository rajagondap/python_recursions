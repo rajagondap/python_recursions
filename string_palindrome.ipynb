{
 "cells": [
  {
   "cell_type": "markdown",
   "metadata": {},
   "source": [
    "# Check if string is palindrome or not using recursion"
   ]
  },
  {
   "cell_type": "code",
   "execution_count": 1,
   "metadata": {},
   "outputs": [],
   "source": [
    "# Your recursive function\n",
    "def check_palindrome(st, s, e) :\n",
    "    if st == \"\" or s>=e:\n",
    "        return True\n",
    "    if (st[s] != st[e]) :\n",
    "        return False\n",
    "    return check_palindrome(st, s + 1, e - 1);"
   ]
  },
  {
   "cell_type": "code",
   "execution_count": 2,
   "metadata": {},
   "outputs": [
    {
     "name": "stdout",
     "output_type": "stream",
     "text": [
      "racecar\n",
      "true\n"
     ]
    }
   ],
   "source": [
    "#read the string here and check if it is palindrome or not\n",
    "str = input()\n",
    "n = len(str)\n",
    "\n",
    "if check_palindrome(str, 0, n-1):\n",
    "    print(\"true\")\n",
    "else:\n",
    "    print(\"false\")"
   ]
  }
 ],
 "metadata": {
  "kernelspec": {
   "display_name": "Python 3",
   "language": "python",
   "name": "python3"
  },
  "language_info": {
   "codemirror_mode": {
    "name": "ipython",
    "version": 3
   },
   "file_extension": ".py",
   "mimetype": "text/x-python",
   "name": "python",
   "nbconvert_exporter": "python",
   "pygments_lexer": "ipython3",
   "version": "3.8.5"
  }
 },
 "nbformat": 4,
 "nbformat_minor": 4
}
