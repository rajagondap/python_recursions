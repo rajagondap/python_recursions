{
 "cells": [
  {
   "cell_type": "markdown",
   "metadata": {},
   "source": [
    "# Python program to count number of zeros in a given interger"
   ]
  },
  {
   "cell_type": "code",
   "execution_count": 1,
   "metadata": {},
   "outputs": [],
   "source": [
    "def count_zeros(n):\n",
    "    if n == 0:\n",
    "        return 0\n",
    "    if n % 10 == 0:\n",
    "        return 1 + count_zeros(n//10)\n",
    "    else:\n",
    "        return 0 + count_zeros(n//10)\n",
    "    \n"
   ]
  },
  {
   "cell_type": "code",
   "execution_count": 2,
   "metadata": {},
   "outputs": [
    {
     "name": "stdout",
     "output_type": "stream",
     "text": [
      "100001001\n",
      "6\n"
     ]
    }
   ],
   "source": [
    "n = int(input())\n",
    "if n == 0:\n",
    "    print(1)\n",
    "else:\n",
    "    print(count_zeros(n))"
   ]
  }
 ],
 "metadata": {
  "kernelspec": {
   "display_name": "Python 3",
   "language": "python",
   "name": "python3"
  },
  "language_info": {
   "codemirror_mode": {
    "name": "ipython",
    "version": 3
   },
   "file_extension": ".py",
   "mimetype": "text/x-python",
   "name": "python",
   "nbconvert_exporter": "python",
   "pygments_lexer": "ipython3",
   "version": "3.8.5"
  }
 },
 "nbformat": 4,
 "nbformat_minor": 4
}
