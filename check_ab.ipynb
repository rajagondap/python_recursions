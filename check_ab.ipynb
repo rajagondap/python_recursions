{
 "cells": [
  {
   "cell_type": "markdown",
   "metadata": {},
   "source": [
    "Suppose you have a string, S, made up of only 'a's and 'b's. Write a recursive function that checks if the string was generated using the following rules:\n",
    "a. The string begins with an 'a'\n",
    "b. Each 'a' is followed by nothing or an 'a' or \"bb\"\n",
    "c. Each \"bb\" is followed by nothing or an 'a'\n",
    "If all the rules are followed by the given string, return true otherwise return false.\n"
   ]
  },
  {
   "cell_type": "code",
   "execution_count": 2,
   "metadata": {},
   "outputs": [],
   "source": [
    "def check_ab(str):\n",
    "    if len(str)==0:\n",
    "        return True\n",
    "    \n",
    "    if str[0] == 'a':\n",
    "        \n",
    "        if len(str[1:])  > 1 and str[1:3] == 'bb':\n",
    "            return check_ab(str[3:])\n",
    "        \n",
    "        else:\n",
    "            return check_ab(str[1:])\n",
    "    else:\n",
    "        return False"
   ]
  },
  {
   "cell_type": "code",
   "execution_count": 4,
   "metadata": {},
   "outputs": [
    {
     "name": "stdout",
     "output_type": "stream",
     "text": [
      "abbaabba\n",
      "true\n"
     ]
    }
   ],
   "source": [
    "str = input()\n",
    "if (check_ab(str)):\n",
    "    print(\"true\")\n",
    "else:\n",
    "    print(\"false\")"
   ]
  }
 ],
 "metadata": {
  "kernelspec": {
   "display_name": "Python 3",
   "language": "python",
   "name": "python3"
  },
  "language_info": {
   "codemirror_mode": {
    "name": "ipython",
    "version": 3
   },
   "file_extension": ".py",
   "mimetype": "text/x-python",
   "name": "python",
   "nbconvert_exporter": "python",
   "pygments_lexer": "ipython3",
   "version": "3.8.5"
  }
 },
 "nbformat": 4,
 "nbformat_minor": 4
}
