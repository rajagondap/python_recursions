{
 "cells": [
  {
   "cell_type": "code",
   "execution_count": 12,
   "metadata": {},
   "outputs": [],
   "source": [
    "def tower_hanoi(n, a, b, c):\n",
    "    if n == 1:\n",
    "        print(\"Move 1st disk from {0} to {1}\".format(a, c))\n",
    "        return\n",
    "    tower_hanoi(n-1, a, c, b)\n",
    "    print(\"Move {0}th disck from {1} to {2}\".format(n, a, c))\n",
    "    tower_hanoi(n-1, b, a, c )"
   ]
  },
  {
   "cell_type": "code",
   "execution_count": 13,
   "metadata": {},
   "outputs": [
    {
     "name": "stdout",
     "output_type": "stream",
     "text": [
      "Move 1st disk from sourse to helper\n",
      "Move 2th disck from sourse to Destination\n",
      "Move 1st disk from helper to Destination\n"
     ]
    }
   ],
   "source": [
    "tower_hanoi(2, \"sourse\", \"helper\", \"Destination\")"
   ]
  },
  {
   "cell_type": "code",
   "execution_count": null,
   "metadata": {},
   "outputs": [],
   "source": []
  }
 ],
 "metadata": {
  "kernelspec": {
   "display_name": "Python 3",
   "language": "python",
   "name": "python3"
  },
  "language_info": {
   "codemirror_mode": {
    "name": "ipython",
    "version": 3
   },
   "file_extension": ".py",
   "mimetype": "text/x-python",
   "name": "python",
   "nbconvert_exporter": "python",
   "pygments_lexer": "ipython3",
   "version": "3.8.5"
  }
 },
 "nbformat": 4,
 "nbformat_minor": 4
}
