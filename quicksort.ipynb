{
 "cells": [
  {
   "cell_type": "markdown",
   "metadata": {},
   "source": [
    "## Python Recursion for quick sort\n"
   ]
  },
  {
   "cell_type": "markdown",
   "metadata": {},
   "source": [
    "#### Code for Partitions algorithm"
   ]
  },
  {
   "cell_type": "code",
   "execution_count": 4,
   "metadata": {},
   "outputs": [],
   "source": [
    "def partition(arr, si, ei):\n",
    "    pivot = arr[si]\n",
    "    c = 0\n",
    "    #find the number of elements smaller than pivot\n",
    "    for i in range(si, ei+1):\n",
    "        if arr[i] < pivot:\n",
    "            c +=1\n",
    "    \n",
    "    arr[si+c], arr[si] = arr[si], arr[si+c]\n",
    "    pivot_index = si+c\n",
    "    \n",
    "    i = si\n",
    "    j = ei\n",
    "    \n",
    "    while i < j:\n",
    "        if arr[i] < pivot:\n",
    "            i += 1\n",
    "        elif arr[j] >= pivot:\n",
    "            j-=1\n",
    "        else:\n",
    "            arr[i], arr[j] = arr[j], arr[i]\n",
    "            i+=1\n",
    "            j-=1\n",
    "    return pivot_index"
   ]
  },
  {
   "cell_type": "markdown",
   "metadata": {},
   "source": [
    "#### quicksort recursion function"
   ]
  },
  {
   "cell_type": "code",
   "execution_count": 5,
   "metadata": {},
   "outputs": [],
   "source": [
    "def quick_sort(arr, start, end):\n",
    "    # Please add your code here\n",
    "    if start >= end:\n",
    "        return\n",
    "    \n",
    "    pivot_index = partition(arr, start, end)\n",
    "    quick_sort(arr, start, pivot_index-1)\n",
    "    quick_sort(arr, pivot_index+1, end)"
   ]
  },
  {
   "cell_type": "code",
   "execution_count": 7,
   "metadata": {},
   "outputs": [
    {
     "name": "stdout",
     "output_type": "stream",
     "text": [
      "1 2 3 4 5 6 7 8 9 10\n"
     ]
    }
   ],
   "source": [
    "arr = [6, 10, 9, 8, 7, 1, 3, 4, 2, 5]\n",
    "quick_sort(arr, 0, len(arr)-1)\n",
    "print(*arr)"
   ]
  }
 ],
 "metadata": {
  "kernelspec": {
   "display_name": "Python 3",
   "language": "python",
   "name": "python3"
  },
  "language_info": {
   "codemirror_mode": {
    "name": "ipython",
    "version": 3
   },
   "file_extension": ".py",
   "mimetype": "text/x-python",
   "name": "python",
   "nbconvert_exporter": "python",
   "pygments_lexer": "ipython3",
   "version": "3.8.5"
  }
 },
 "nbformat": 4,
 "nbformat_minor": 4
}
